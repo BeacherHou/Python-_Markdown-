{
 "cells": [
  {
   "cell_type": "markdown",
   "metadata": {},
   "source": [
    "# 标准流\n",
    "`sys`模块提供了*Python*的标准输入，输出和错误流"
   ]
  },
  {
   "cell_type": "code",
   "execution_count": 1,
   "metadata": {},
   "outputs": [
    {
     "data": {
      "text/plain": [
       "(<_io.TextIOWrapper name='<stdin>' mode='r' encoding='UTF-8'>,\n",
       " <ipykernel.iostream.OutStream at 0x7f734b0c24e0>,\n",
       " <ipykernel.iostream.OutStream at 0x7f735362a0f0>)"
      ]
     },
     "execution_count": 1,
     "metadata": {},
     "output_type": "execute_result"
    }
   ],
   "source": [
    "import sys\n",
    "sys.stdin, sys.stdout, sys.stderr"
   ]
  },
  {
   "cell_type": "markdown",
   "metadata": {},
   "source": [
    "标准流是预先打开的*Python* **文件对象**。`print()`和`input()`实际上只是标准输出流和输入流的接口，因此它们和`sys.stdin()`/`sys.stdout()`类似："
   ]
  },
  {
   "cell_type": "code",
   "execution_count": 3,
   "metadata": {},
   "outputs": [
    {
     "name": "stdout",
     "output_type": "stream",
     "text": [
      "Hello, world!\n",
      "Hello, world!\n"
     ]
    }
   ],
   "source": [
    "print('Hello, world!')\n",
    "sys.stdout.write('Hello, world!' + '\\n')"
   ]
  },
  {
   "cell_type": "code",
   "execution_count": 11,
   "metadata": {
    "scrolled": false
   },
   "outputs": [
    {
     "name": "stdout",
     "output_type": "stream",
     "text": [
      "Your name >>> Tom\n",
      "Your name >>> \n"
     ]
    },
    {
     "data": {
      "text/plain": [
       "''"
      ]
     },
     "execution_count": 11,
     "metadata": {},
     "output_type": "execute_result"
    }
   ],
   "source": [
    "input('Your name >>> ')\n",
    "print('Your name >>> ');sys.stdin.readline()[:-1]"
   ]
  },
  {
   "cell_type": "markdown",
   "metadata": {},
   "source": [
    "## 重定向流到文件或程序\n",
    "### 重定向的常见作用\n",
    "- 通过重定向标准输入流到不同的程序，可以将一个测试脚本应用于任意的输出\n",
    "- 重定向标准输出流使得我们能够保存及后续分析一个程序的输出\n",
    "\n",
    "示例：teststreams.py"
   ]
  },
  {
   "cell_type": "code",
   "execution_count": 5,
   "metadata": {
    "scrolled": true
   },
   "outputs": [
    {
     "name": "stdout",
     "output_type": "stream",
     "text": [
      "Hello, stream world!\n",
      "Enter a number >>> 11\n",
      "11 squared is 121\n",
      "Enter a number >>> 6\n",
      "6 squared is 36\n",
      "Enter a number >>> exit\n",
      ":) Bye\n"
     ]
    }
   ],
   "source": [
    "\"read numbers till eof and show squares\"\n",
    "\n",
    "\n",
    "def interact():\n",
    "    \"与用户交互计算平方\"\n",
    "    print('Hello, stream world!')\n",
    "    while True:\n",
    "        try: reply_str = input('Enter a number >>> ')\n",
    "        except EOFError: break\n",
    "        else:\n",
    "            if reply_str == 'exit': break\n",
    "            reply_int = int(reply_str)\n",
    "            print('%s squared is %d' % (reply_str, reply_int ** 2))\n",
    "    print(':) Bye')\n",
    "    \n",
    "\n",
    "if __name__ == '__main__':\n",
    "    interact()"
   ]
  },
  {
   "cell_type": "markdown",
   "metadata": {},
   "source": [
    "- 它从标准输出流中读入数字，直到读入文件结束符（在*Windows*下是`CTRL + Z`，在*Unix*下是`CTRL + D`）\n",
    "- *EOFError*: 读取到文件结束符\n",
    "```shell\n",
    "beacherhou@alone-Vostro-14-5401:/media/beacherhou/Coding/Python/Python项目/pp4e/system$ cat input.txt\n",
    "11\n",
    "6\n",
    "beacherhou@alone-Vostro-14-5401:/media/beacherhou/Coding/Python/Python项目/pp4e/system$ python test_streams.py < input.txt \n",
    "Hello, stream world!\n",
    "Enter a number >>> 11 squared is 121\n",
    "Enter a number >>> 6 squared is 36\n",
    "Enter a number >>> :) Bye\n",
    "```\n",
    "- 可以利用*shell*语法`< filename`把标准输入流重定向到文件输入\n",
    "```shell\n",
    "beacherhou@alone-Vostro-14-5401:/media/beacherhou/Coding/Python/Python项目/pp4e/system$ python test_streams.py < input.txt > output.txt\n",
    "beacherhou@alone-Vostro-14-5401:/media/beacherhou/Coding/Python/Python项目/pp4e/system$ cat output.txt \n",
    "Hello, stream world!\n",
    "Enter a number >>> 11 squared is 121\n",
    "Enter a number >>> 6 squared is 36\n",
    "Enter a number >>> :) Bye\n",
    "```\n",
    "- 也可以利用*shell*语法将标准输出流重定向到文件中\n",
    "\n",
    "### 用管道（*pipe*）链接程序\n",
    "\n",
    "在两个命令之间使用*shell*字符`|`，可以将一个程序的标准输出发送到另一个程序的标准输入。\n",
    "```shell\n",
    "beacherhou@alone-Vostro-14-5401:/media/beacherhou/Coding/Python/Python项目/pp4e/system$ python test_streams.py < input.txt | more\n",
    "Hello, stream world!\n",
    "Enter a number >>> 11 squared is 121\n",
    "Enter a number >>> 6 squared is 36\n",
    "Enter a number >>> :) Bye\n",
    "```\n",
    "使用`stdin`和`stdout`实现脚本程序的通信，可以简化复用过程\n",
    "\n",
    "示例：sorter.py"
   ]
  },
  {
   "cell_type": "code",
   "execution_count": null,
   "metadata": {},
   "outputs": [],
   "source": [
    "import sys\n",
    "\n",
    "\n",
    "lines_list = sys.stdin.readlines()\n",
    "lines_list.sort()\n",
    "for line_str in lines_list: print(line_str, end='')"
   ]
  },
  {
   "cell_type": "markdown",
   "metadata": {},
   "source": [
    "示例：adder.py"
   ]
  },
  {
   "cell_type": "code",
   "execution_count": null,
   "metadata": {},
   "outputs": [],
   "source": [
    "sum_int = 0\n",
    "\n",
    "while True:\n",
    "    try: data_str = input()\n",
    "    except EOFError: break\n",
    "    else:\n",
    "        sum_int += int(data_str)\n",
    "\n",
    "print(sum_int)"
   ]
  },
  {
   "cell_type": "markdown",
   "metadata": {},
   "source": [
    "```shell\n",
    "beacherhou@alone-Vostro-14-5401:/media/beacherhou/Coding/Python/Python项目/pp4e/system$ cat data.txt \n",
    "2007\n",
    "0000\n",
    "1106\n",
    "1234\n",
    "beacherhou@alone-Vostro-14-5401:/media/beacherhou/Coding/Python/Python项目/pp4e/system$ python sorter.py < data.txt \n",
    "0000\n",
    "1106\n",
    "1234\n",
    "2007\n",
    "beacherhou@alone-Vostro-14-5401:/media/beacherhou/Coding/Python/Python项目/pp4e/system$ python adder.py < data.txt \n",
    "4347\n",
    "beacherhou@alone-Vostro-14-5401:/media/beacherhou/Coding/Python/Python项目/pp4e/system$ cat data.txt | python sorter.py | python adder.py \n",
    "4347\n",
    "```"
   ]
  },
  {
   "cell_type": "markdown",
   "metadata": {},
   "source": [
    "### adders和sorters的替代编码之选\n",
    "\n",
    "- sorter.py使用`readlines()`一次性从`stdin`读取所有输出\n",
    "- adder.py每次只读取一行\n",
    "\n",
    "一些平台会并行启动用管道链接的程序，在这种系统之下，如果数据量过大，按行读取将会更加优雅\n",
    "\n",
    "示例：adder2.py"
   ]
  },
  {
   "cell_type": "code",
   "execution_count": null,
   "metadata": {},
   "outputs": [],
   "source": [
    "import sys\n",
    "\n",
    "\n",
    "sum_int = 0\n",
    "while True:\n",
    "\tline_str = sys.stdin.readline()\n",
    "\tif not line_str: break\n",
    "\tsum_int += int(line_str)\n",
    "print(sum_int)"
   ]
  },
  {
   "cell_type": "markdown",
   "metadata": {},
   "source": [
    "- `int()`可以接受两端带有空白的数字\n",
    "\n",
    "我们可以利用*Python*最新的*file iterator*来实现它，在file对象上迭代，`for`循环每次自动抓取一行\n",
    "\n",
    "示例：adder3.py"
   ]
  },
  {
   "cell_type": "code",
   "execution_count": null,
   "metadata": {},
   "outputs": [],
   "source": [
    "import sys\n",
    "\n",
    "\n",
    "sum_int = 0\n",
    "for line_str in sys.stdin: sum_int += int(line_str)\n",
    "print(sum_int)"
   ]
  },
  {
   "cell_type": "markdown",
   "metadata": {},
   "source": [
    "在*Python 2.4*以后的脚本还可以更精简：使用内部的`sorted()`函数生成器表达式、文件迭代器。\n",
    "\n",
    "示例：sorter_small.py"
   ]
  },
  {
   "cell_type": "code",
   "execution_count": null,
   "metadata": {},
   "outputs": [],
   "source": [
    "import sys\n",
    "\n",
    "\n",
    "for line_str in sorted(sys.stdin): print(line_str, end='')"
   ]
  },
  {
   "cell_type": "markdown",
   "metadata": {},
   "source": [
    "示例：adder_small.py"
   ]
  },
  {
   "cell_type": "code",
   "execution_count": null,
   "metadata": {},
   "outputs": [],
   "source": [
    "import sys\n",
    "\n",
    "\n",
    "print(sum(int(line_str) for line_str in sys.stdin))"
   ]
  },
  {
   "cell_type": "markdown",
   "metadata": {},
   "source": [
    "### 重定向流和用户交互\n",
    "\n",
    "之前，我们曾用*Python*实现了`more`分页程序。\n",
    "\n",
    "然而，more.py还隐藏着**不易察觉的缺点**：如果使用管道**重定向标准输出流到more**，且输出**足够长**导致more**产生分页**，向用户提示是否分页，脚本会**直接报错EOFError**\n",
    "\n",
    "原因在于more.py**错误地使用`stdin`**：\n",
    "\n",
    "- 一方面，它通过调用`input`从`stdin`读取用户的标准输入流\n",
    "\n",
    "- 另一方面，它又从`stdin`中读取输入文本\n",
    "\n",
    "当`stdin`流被**重定向到文件或者管道时**，我们无法再用它读取用户输入，此时它**只能获取输入源的文本**。而且，`stdin`在**程序启动前**就被重定向，因此**无法获取重定向前的`stdout`**。\n",
    "\n",
    "因此，就需要特殊的接口**从键盘**而非`stdin`直接读取用户输入。\n",
    "\n",
    "- 在*Windows*下，提供了*Python*标准库`msvcrt`\n",
    "\n",
    "- 在*Unix*下，可以读取设备文件`/dev/tty`\n",
    "\n",
    "这里给出*Windows*平台下的示例\n",
    "\n",
    "示例：more_plus.py"
   ]
  },
  {
   "cell_type": "code",
   "execution_count": null,
   "metadata": {},
   "outputs": [],
   "source": [
    "#!/usr/bin/env python\n",
    "\"\"\"\n",
    "分隔字符串或文本文件并交互的进行分页\n",
    "\"\"\"\n",
    "\n",
    "\n",
    "def get_reply():\n",
    "\t\"读取用户交互式的回复键，即使stdin重定向到某个文件或者管道\"\n",
    "\timport sys\n",
    "\n",
    "\n",
    "\tif sys.stdin.isatty():\n",
    "\t\treturn input('More? ')\n",
    "\telse:\n",
    "\t\tif sys.platform[:3] == 'win':\n",
    "\t\t\timport msvcrt\n",
    "\n",
    "\n",
    "\t\t\tmsvcrt.putch(b'More? ')\n",
    "\t\t\tkey = msvcrt.getche()\n",
    "\t\t\tmsvcrt.putch(b'\\n')\n",
    "\t\t\treturn key\n",
    "\t\telse:\n",
    "\t\t\tassert False, 'platform not supported'\n",
    "\n",
    "\n",
    "def more(text_str, num_lines=15):\n",
    "\tlines = text_str.splitlines()\n",
    "\twhile lines:\n",
    "\t\tchunk = lines[: num_lines]\n",
    "\t\tlines = lines[num_lines: ]\n",
    "\t\tfor line in chunk: print(line)\n",
    "\t\tif lines and get_reply() not in [b'y', b'Y']: break\n",
    "\n",
    "\n",
    "if __name__ == '__main__':\n",
    "\timport sys\n",
    "\n",
    "\n",
    "\tif len(sys.argv) == 1: more(sys.stdin.read())\n",
    "\telse: more(open(sys.argv[1]).read())"
   ]
  },
  {
   "cell_type": "markdown",
   "metadata": {},
   "source": [
    "回顾一下，我们总共用了4种方式使用more\n",
    "1. 加载和函数调用\n",
    "2. 命令行参数传递文件名\n",
    "3. 重定向`stdin`到文件\n",
    "4. 通过管道将内容输出到`stdin`"
   ]
  },
  {
   "cell_type": "markdown",
   "metadata": {},
   "source": [
    "## 重定向流到*Python*对象\n",
    "\n",
    "在*Python*里，任何**在方法上与文件类似**的对象都可以充当标准流。它**和对象的数据类型无关**，而取决于接口（有时被称为协议）。\n",
    "\n",
    "- 任何提供了类似于文件`read`方法的对象都可以指定给`sys.stdin`，以从该对象的`read`方法读取输入\n",
    "\n",
    "- 任何定义了类似于文件`write`方法的对象都可以指定给`sys.stdout`，所有标准输出都将发送到该对象方法上"
   ]
  },
  {
   "cell_type": "code",
   "execution_count": null,
   "metadata": {},
   "outputs": [],
   "source": []
  }
 ],
 "metadata": {
  "kernelspec": {
   "display_name": "Python 3",
   "language": "python",
   "name": "python3"
  },
  "language_info": {
   "codemirror_mode": {
    "name": "ipython",
    "version": 3
   },
   "file_extension": ".py",
   "mimetype": "text/x-python",
   "name": "python",
   "nbconvert_exporter": "python",
   "pygments_lexer": "ipython3",
   "version": "3.7.0"
  }
 },
 "nbformat": 4,
 "nbformat_minor": 2
}
